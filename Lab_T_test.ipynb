{
 "cells": [
  {
   "cell_type": "markdown",
   "id": "ca345fff",
   "metadata": {},
   "source": [
    "# Lab | Inferential statistics - T-test"
   ]
  },
  {
   "cell_type": "markdown",
   "id": "35d464b4",
   "metadata": {},
   "source": [
    "In a packing plant, a machine packs cartons with jars. It is supposed that a new machine will pack faster on the average than the machine currently used. To test that hypothesis, the times it takes each machine to pack ten cartons are recorded. The results, in seconds, are shown in the tables in the file files_for_lab/machine.txt. Assume that there is sufficient evidence to conduct the t test, does the data provide sufficient evidence to show if one machine is better than the other"
   ]
  },
  {
   "cell_type": "code",
   "execution_count": 1,
   "id": "caaaee94",
   "metadata": {},
   "outputs": [],
   "source": [
    "import numpy as np\n",
    "import math"
   ]
  },
  {
   "cell_type": "code",
   "execution_count": 2,
   "id": "08867c1a",
   "metadata": {},
   "outputs": [],
   "source": [
    "new_machine = [42.1,41,41.3,41.8,42.4,42.8,43.2,42.3,41.8,42.7]\n",
    "\n",
    "old_machine = [42.7,43.6,43.8,43.3,42.5,43.5,43.1,41.7,44,44.1]\n",
    "\n",
    "new_mach_mean = np.mean(new_machine)\n",
    "new_mach_std = np.std(new_machine)\n",
    "\n",
    "old_mach_mean = np.mean(old_machine)\n",
    "old_mach_std = np.std(old_machine)\n",
    "\n",
    "number_of_cases = 10"
   ]
  },
  {
   "cell_type": "code",
   "execution_count": 3,
   "id": "1f1f81e1",
   "metadata": {},
   "outputs": [
    {
     "data": {
      "text/plain": [
       "42.14"
      ]
     },
     "execution_count": 3,
     "metadata": {},
     "output_type": "execute_result"
    }
   ],
   "source": [
    "new_mach_mean"
   ]
  },
  {
   "cell_type": "code",
   "execution_count": 4,
   "id": "60692345",
   "metadata": {},
   "outputs": [
    {
     "data": {
      "text/plain": [
       "43.230000000000004"
      ]
     },
     "execution_count": 4,
     "metadata": {},
     "output_type": "execute_result"
    }
   ],
   "source": [
    "old_mach_mean"
   ]
  },
  {
   "cell_type": "code",
   "execution_count": 5,
   "id": "cb34bfac",
   "metadata": {},
   "outputs": [
    {
     "data": {
      "text/plain": [
       "0.6483826030978941"
      ]
     },
     "execution_count": 5,
     "metadata": {},
     "output_type": "execute_result"
    }
   ],
   "source": [
    "new_mach_std"
   ]
  },
  {
   "cell_type": "code",
   "execution_count": 6,
   "id": "e1a0f1bc",
   "metadata": {},
   "outputs": [
    {
     "data": {
      "text/plain": [
       "0.7114070564732956"
      ]
     },
     "execution_count": 6,
     "metadata": {},
     "output_type": "execute_result"
    }
   ],
   "source": [
    "old_mach_std"
   ]
  },
  {
   "cell_type": "code",
   "execution_count": 8,
   "id": "c931bf34",
   "metadata": {},
   "outputs": [
    {
     "data": {
      "text/plain": [
       "-4.84516229944499"
      ]
     },
     "execution_count": 8,
     "metadata": {},
     "output_type": "execute_result"
    }
   ],
   "source": [
    "#checking if the machines are different.\n",
    "statistic = (new_mach_mean - old_mach_mean)/(old_mach_std/math.sqrt(number_of_cases))\n",
    "statistic\n",
    "#is this what i have to apply and then just check the table?"
   ]
  },
  {
   "cell_type": "markdown",
   "id": "0e1728ac",
   "metadata": {},
   "source": [
    "Conclusions: From the result and the test and from clear observation we can verify that indeed the two machines are different in the sence that the new machine does perform better than the old one."
   ]
  },
  {
   "cell_type": "code",
   "execution_count": null,
   "id": "fab541b6",
   "metadata": {},
   "outputs": [],
   "source": []
  }
 ],
 "metadata": {
  "kernelspec": {
   "display_name": "Python 3",
   "language": "python",
   "name": "python3"
  },
  "language_info": {
   "codemirror_mode": {
    "name": "ipython",
    "version": 3
   },
   "file_extension": ".py",
   "mimetype": "text/x-python",
   "name": "python",
   "nbconvert_exporter": "python",
   "pygments_lexer": "ipython3",
   "version": "3.8.8"
  }
 },
 "nbformat": 4,
 "nbformat_minor": 5
}
